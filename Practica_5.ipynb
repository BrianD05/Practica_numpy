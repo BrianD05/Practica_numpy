{
 "cells": [
  {
   "cell_type": "markdown",
   "id": "9c095bc4",
   "metadata": {},
   "source": [
    "# Ejercicio 1: Manipulación de arrays"
   ]
  },
  {
   "cell_type": "code",
   "execution_count": 4,
   "id": "5f301ff3",
   "metadata": {},
   "outputs": [],
   "source": [
    "import numpy as np"
   ]
  },
  {
   "cell_type": "code",
   "execution_count": 5,
   "id": "c777672c",
   "metadata": {},
   "outputs": [],
   "source": [
    "# Crea un array de 1D con números aleatorios entre 1 y 50\n",
    "array_1 = np.random.randint(1,51,size = 8)"
   ]
  },
  {
   "cell_type": "code",
   "execution_count": 6,
   "id": "edca922f",
   "metadata": {},
   "outputs": [
    {
     "name": "stdout",
     "output_type": "stream",
     "text": [
      "Array Original\n",
      "[ 4 29 22 15  5  4 44 18]\n"
     ]
    }
   ],
   "source": [
    "# Imprime el array original\n",
    "print(\"Array Original\")\n",
    "print(array_1)"
   ]
  },
  {
   "cell_type": "code",
   "execution_count": 7,
   "id": "ea19cb2c",
   "metadata": {},
   "outputs": [],
   "source": [
    "# Invierte el orden de los elementos en el array\n",
    "array_1_invertido = np.flip(array_1)"
   ]
  },
  {
   "cell_type": "code",
   "execution_count": 8,
   "id": "ea3feceb",
   "metadata": {},
   "outputs": [
    {
     "name": "stdout",
     "output_type": "stream",
     "text": [
      "Array Invertido\n",
      "[18 44  4  5 15 22 29  4]\n"
     ]
    }
   ],
   "source": [
    "print(\"Array Invertido\")\n",
    "print(array_1_invertido)"
   ]
  },
  {
   "cell_type": "code",
   "execution_count": 9,
   "id": "9fd7009b",
   "metadata": {},
   "outputs": [],
   "source": [
    "# Cambia el shape del array a una matriz 2x4\n",
    "matriz2_x_4 = array_1.reshape(2,4)"
   ]
  },
  {
   "cell_type": "code",
   "execution_count": 11,
   "id": "0c37d28c",
   "metadata": {},
   "outputs": [
    {
     "name": "stdout",
     "output_type": "stream",
     "text": [
      "Matriz 2 x 4\n",
      "[[ 4 29 22 15]\n",
      " [ 5  4 44 18]]\n"
     ]
    }
   ],
   "source": [
    "#Matriz 2 x 4\n",
    "print(\"Matriz 2 x 4\")\n",
    "print(matriz2_x_4)"
   ]
  },
  {
   "cell_type": "markdown",
   "id": "831777f4",
   "metadata": {},
   "source": [
    "# Ejercicio 2: Operaciones con matrices"
   ]
  },
  {
   "cell_type": "code",
   "execution_count": 12,
   "id": "5ae75ef1",
   "metadata": {},
   "outputs": [],
   "source": [
    "# Crea dos matrices 2x3 con valores aleatorios entre 1 y 10\n",
    "\n",
    "array_1 = np.random.randint(1,11,size = (2,3))\n",
    "array_2 = np.random.randint(1,11,size = (2,3))"
   ]
  },
  {
   "cell_type": "code",
   "execution_count": 13,
   "id": "5312b28f",
   "metadata": {},
   "outputs": [
    {
     "name": "stdout",
     "output_type": "stream",
     "text": [
      "[[10 10  2]\n",
      " [10  5  5]]\n"
     ]
    }
   ],
   "source": [
    "# Imprime las matrices originales\n",
    "print(\"Matriz A\")\n",
    "print(array_1)"
   ]
  },
  {
   "cell_type": "code",
   "execution_count": 15,
   "id": "21e4535f",
   "metadata": {},
   "outputs": [
    {
     "name": "stdout",
     "output_type": "stream",
     "text": [
      "Matriz B\n",
      "[[ 7  3  1]\n",
      " [ 8 10  7]]\n"
     ]
    }
   ],
   "source": [
    "print(\"Matriz B\")\n",
    "print(array_2)"
   ]
  },
  {
   "cell_type": "code",
   "execution_count": 16,
   "id": "fe682bb4",
   "metadata": {},
   "outputs": [],
   "source": [
    "# Realiza la multiplicación elemento a elemento de las dos matrices\n",
    "multiplicacion_elemento_a_elemento = np.multiply(array_1,array_2)"
   ]
  },
  {
   "cell_type": "code",
   "execution_count": 17,
   "id": "bbb6d2b9",
   "metadata": {},
   "outputs": [
    {
     "name": "stdout",
     "output_type": "stream",
     "text": [
      "\n",
      "Multiplicación elemento a elemento:\n",
      "[[70 30  2]\n",
      " [80 50 35]]\n"
     ]
    }
   ],
   "source": [
    "print(\"\\nMultiplicación elemento a elemento:\")\n",
    "print(multiplicacion_elemento_a_elemento)"
   ]
  },
  {
   "cell_type": "code",
   "execution_count": 18,
   "id": "ce9b8ec9",
   "metadata": {},
   "outputs": [],
   "source": [
    "# Calcula la suma de todas las entradas de la matriz resultante\n",
    "\n",
    "suma_matriz = np.sum(multiplicacion_elemento_a_elemento)"
   ]
  },
  {
   "cell_type": "code",
   "execution_count": 19,
   "id": "7459012b",
   "metadata": {},
   "outputs": [
    {
     "name": "stdout",
     "output_type": "stream",
     "text": [
      "\n",
      "Suma total:\n",
      "267\n"
     ]
    }
   ],
   "source": [
    "print(\"\\nSuma total:\")\n",
    "print(suma_matriz)"
   ]
  },
  {
   "cell_type": "markdown",
   "id": "b43f67ee",
   "metadata": {},
   "source": [
    "# Ejercicio 3: Filtrado y Slicing"
   ]
  },
  {
   "cell_type": "code",
   "execution_count": 20,
   "id": "d394ac17",
   "metadata": {},
   "outputs": [],
   "source": [
    "# Crea un array 2D de forma (4, 6) con valores aleatorios entre 1 y 100\n",
    "array_1 = np.random.randint(1,101,size = (4,6))"
   ]
  },
  {
   "cell_type": "code",
   "execution_count": 21,
   "id": "5b52d3af",
   "metadata": {},
   "outputs": [
    {
     "name": "stdout",
     "output_type": "stream",
     "text": [
      "Array Original\n",
      "[[87 73 81 51 98 54]\n",
      " [16 34 65 50 10 79]\n",
      " [40 32 96 98 42  8]\n",
      " [18 44 37 41  3 33]]\n"
     ]
    }
   ],
   "source": [
    "# Imprime el array original\n",
    "print(\"Array Original\")\n",
    "print(array_1)"
   ]
  },
  {
   "cell_type": "code",
   "execution_count": 22,
   "id": "858959fa",
   "metadata": {},
   "outputs": [],
   "source": [
    "# Selecciona la submatriz formada por las primeras 2 filas y las primeras 3 columnas\n",
    "submatriz = array_1[:2,:3]"
   ]
  },
  {
   "cell_type": "code",
   "execution_count": 23,
   "id": "a041065c",
   "metadata": {},
   "outputs": [
    {
     "name": "stdout",
     "output_type": "stream",
     "text": [
      "Submatriz\n",
      "[[87 73 81]\n",
      " [16 34 65]]\n"
     ]
    }
   ],
   "source": [
    "print(\"Submatriz\")\n",
    "print(submatriz)"
   ]
  },
  {
   "cell_type": "code",
   "execution_count": 24,
   "id": "19ab576b",
   "metadata": {},
   "outputs": [],
   "source": [
    "# Filtra los valores mayores a 50 en la submatriz\n",
    "\n",
    "filtracion = submatriz[submatriz > 50]"
   ]
  },
  {
   "cell_type": "code",
   "execution_count": 25,
   "id": "ffbfc988",
   "metadata": {},
   "outputs": [
    {
     "name": "stdout",
     "output_type": "stream",
     "text": [
      "\n",
      "Valores mayores a 50:\n",
      "[87 73 81 65]\n"
     ]
    }
   ],
   "source": [
    "print(\"\\nValores mayores a 50:\")\n",
    "print(filtracion)"
   ]
  },
  {
   "cell_type": "markdown",
   "id": "6ca50901",
   "metadata": {},
   "source": [
    "# Ejercicio 4: Crear un array con condiciones"
   ]
  },
  {
   "cell_type": "code",
   "execution_count": 26,
   "id": "e4f88a63",
   "metadata": {},
   "outputs": [],
   "source": [
    "# Crea un array de 1D con números aleatorios entre -10 y 10\n",
    "array = np.random.randint(-10,11,size = 10)"
   ]
  },
  {
   "cell_type": "code",
   "execution_count": 27,
   "id": "8819b20d",
   "metadata": {},
   "outputs": [
    {
     "name": "stdout",
     "output_type": "stream",
     "text": [
      "Array Original\n",
      "[  2   6   8   0   2   5  10 -10   3   7]\n"
     ]
    }
   ],
   "source": [
    "# Imprime el array original\n",
    "print(\"Array Original\")\n",
    "print(array)"
   ]
  },
  {
   "cell_type": "code",
   "execution_count": 28,
   "id": "5dec0f5d",
   "metadata": {},
   "outputs": [],
   "source": [
    "# Crea un nuevo array con solo los valores positivos del array original\n",
    "valores_positivos = array[array > 0]"
   ]
  },
  {
   "cell_type": "code",
   "execution_count": 30,
   "id": "d03fc718",
   "metadata": {},
   "outputs": [
    {
     "name": "stdout",
     "output_type": "stream",
     "text": [
      "\n",
      "Array de valores positivos:\n",
      "[ 2  6  8  2  5 10  3  7]\n"
     ]
    }
   ],
   "source": [
    "print(\"\\nArray de valores positivos:\")\n",
    "print(valores_positivos)"
   ]
  },
  {
   "cell_type": "code",
   "execution_count": null,
   "id": "e54ac775",
   "metadata": {},
   "outputs": [],
   "source": []
  },
  {
   "cell_type": "code",
   "execution_count": null,
   "id": "016ff01a",
   "metadata": {},
   "outputs": [],
   "source": []
  },
  {
   "cell_type": "code",
   "execution_count": null,
   "id": "2acb366d",
   "metadata": {},
   "outputs": [],
   "source": []
  },
  {
   "cell_type": "code",
   "execution_count": null,
   "id": "8272ab48",
   "metadata": {},
   "outputs": [],
   "source": []
  }
 ],
 "metadata": {
  "kernelspec": {
   "display_name": "Python 3 (ipykernel)",
   "language": "python",
   "name": "python3"
  },
  "language_info": {
   "codemirror_mode": {
    "name": "ipython",
    "version": 3
   },
   "file_extension": ".py",
   "mimetype": "text/x-python",
   "name": "python",
   "nbconvert_exporter": "python",
   "pygments_lexer": "ipython3",
   "version": "3.11.3"
  }
 },
 "nbformat": 4,
 "nbformat_minor": 5
}
