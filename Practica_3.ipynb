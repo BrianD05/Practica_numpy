{
 "cells": [
  {
   "cell_type": "code",
   "execution_count": 2,
   "id": "274e63b7",
   "metadata": {},
   "outputs": [],
   "source": [
    "import numpy as np"
   ]
  },
  {
   "cell_type": "markdown",
   "id": "bab5ff41",
   "metadata": {},
   "source": [
    "# Ejercicio 1: Operaciones con Matrices"
   ]
  },
  {
   "cell_type": "code",
   "execution_count": 3,
   "id": "8a944f6f",
   "metadata": {},
   "outputs": [
    {
     "name": "stdout",
     "output_type": "stream",
     "text": [
      "[[ 1  4  7]\n",
      " [ 7  6  4]\n",
      " [ 4  7 10]]\n"
     ]
    }
   ],
   "source": [
    "# Crea una matriz de 3x3 con valores aleatorios entre 1 y 10\n",
    "\n",
    "matriz_a = np.random.randint(1,11,size = (3,3))\n",
    "print(matriz_a)"
   ]
  },
  {
   "cell_type": "code",
   "execution_count": 5,
   "id": "d5058270",
   "metadata": {},
   "outputs": [
    {
     "name": "stdout",
     "output_type": "stream",
     "text": [
      "[[ 1  7  4]\n",
      " [ 4  6  7]\n",
      " [ 7  4 10]]\n"
     ]
    }
   ],
   "source": [
    "# Calcula la transpuesta de la matriz\n",
    "matriz_traspuesta = np.transpose(matriz_a)\n",
    "print(matriz_traspuesta)"
   ]
  },
  {
   "cell_type": "code",
   "execution_count": 8,
   "id": "7d60aead",
   "metadata": {},
   "outputs": [],
   "source": [
    "# Calcula la inversa de la matriz\n",
    "if np.linalg.det(matriz_a) !=0:\n",
    "    matriz_inversa = np.linalg.inv(matriz_a)\n",
    "    \n",
    "else:\n",
    "    matriz_inversa = \"La matriz no es invertible\""
   ]
  },
  {
   "cell_type": "code",
   "execution_count": 10,
   "id": "d6d9ecba",
   "metadata": {},
   "outputs": [
    {
     "name": "stdout",
     "output_type": "stream",
     "text": [
      "[[-3.55555556 -1.          2.88888889]\n",
      " [ 6.          2.         -5.        ]\n",
      " [-2.77777778 -1.          2.44444444]]\n"
     ]
    }
   ],
   "source": [
    "#Inversa de la matriz \n",
    "print(matriz_inversa)"
   ]
  },
  {
   "cell_type": "markdown",
   "id": "5522ede6",
   "metadata": {},
   "source": [
    "# Ejercicio 2: Funciones de Estadísticas Descriptivas"
   ]
  },
  {
   "cell_type": "code",
   "execution_count": 11,
   "id": "9e80a2db",
   "metadata": {},
   "outputs": [
    {
     "name": "stdout",
     "output_type": "stream",
     "text": [
      "[ 2 29 77 56 44 23 45 36 94 97 17 84 38 25 73 85 60 67 36 94]\n"
     ]
    }
   ],
   "source": [
    "# Crea un array de 20 números aleatorios entre 1 y 100\n",
    "datos = np.random.randint(1,101,20)\n",
    "print(datos)"
   ]
  },
  {
   "cell_type": "code",
   "execution_count": 12,
   "id": "8efc6c1f",
   "metadata": {},
   "outputs": [],
   "source": [
    "## Calcula la media, mediana, varianza y desviación estándar\n",
    "media = np.mean(datos)\n",
    "mediana = np.median(datos)\n",
    "varianza = np.var(datos)\n",
    "desviacion_estandar = np.std(datos)"
   ]
  },
  {
   "cell_type": "code",
   "execution_count": 15,
   "id": "766882f7",
   "metadata": {},
   "outputs": [
    {
     "name": "stdout",
     "output_type": "stream",
     "text": [
      "[ 2 29 77 56 44 23 45 36 94 97 17 84 38 25 73 85 60 67 36 94]\n",
      "Media:  54.1\n",
      "Mediana:  50.5\n",
      "Varianza:  779.69\n",
      "Desviacion Estandar:  27.922929645723066\n"
     ]
    }
   ],
   "source": [
    "print(datos)\n",
    "print(\"Media: \",media)\n",
    "print(\"Mediana: \",mediana)\n",
    "print(\"Varianza: \",varianza)\n",
    "print(\"Desviacion Estandar: \",desviacion_estandar)"
   ]
  },
  {
   "cell_type": "markdown",
   "id": "406df9f0",
   "metadata": {},
   "source": [
    "# Ejercicio 3: Manipulación de Arrays"
   ]
  },
  {
   "cell_type": "code",
   "execution_count": 18,
   "id": "2dd23837",
   "metadata": {},
   "outputs": [
    {
     "name": "stdout",
     "output_type": "stream",
     "text": [
      "[ 1  2  3  4  5  6  7  8  9 10]\n"
     ]
    }
   ],
   "source": [
    "# Crea un array de 1D con valores del 1 al 10\n",
    "array_original = np.arange(1,11)\n",
    "print(array_original)"
   ]
  },
  {
   "cell_type": "code",
   "execution_count": 17,
   "id": "ab13256d",
   "metadata": {},
   "outputs": [
    {
     "name": "stdout",
     "output_type": "stream",
     "text": [
      "[[ 1  2  3  4  5]\n",
      " [ 6  7  8  9 10]]\n"
     ]
    }
   ],
   "source": [
    "# Reshape el array a una matriz 2D de forma (2, 5)\n",
    "array_reshape = array_original.reshape(2,5)\n",
    "print(array_reshape)"
   ]
  },
  {
   "cell_type": "code",
   "execution_count": 20,
   "id": "d4b56c0e",
   "metadata": {},
   "outputs": [
    {
     "name": "stdout",
     "output_type": "stream",
     "text": [
      "[ 7  9 11 13 15]\n"
     ]
    }
   ],
   "source": [
    "suma_columnas = np.sum(array_reshape,axis = 0)\n",
    "print(suma_columnas)"
   ]
  },
  {
   "cell_type": "markdown",
   "id": "6cd2e4ec",
   "metadata": {},
   "source": [
    "# Ejercicio 4: Indexación Avanzada"
   ]
  },
  {
   "cell_type": "code",
   "execution_count": 22,
   "id": "2811ed82",
   "metadata": {},
   "outputs": [
    {
     "name": "stdout",
     "output_type": "stream",
     "text": [
      "[[ 1  2  3  4]\n",
      " [ 5  6  7  8]\n",
      " [ 9 10 11 12]\n",
      " [13 14 15 16]]\n"
     ]
    }
   ],
   "source": [
    "# Crea una matriz 4x4\n",
    "matriz_4x4 = np.array([[1,2,3,4],[5,6,7,8],[9,10,11,12],[13,14,15,16]])\n",
    "print(matriz_4x4)"
   ]
  },
  {
   "cell_type": "code",
   "execution_count": 24,
   "id": "a92125d1",
   "metadata": {},
   "outputs": [
    {
     "name": "stdout",
     "output_type": "stream",
     "text": [
      "[[ 2  4]\n",
      " [10 12]]\n"
     ]
    }
   ],
   "source": [
    "# Selecciona los elementos en las filas pares y columnas impares\n",
    "seleccion = matriz_4x4[::2, 1::2]\n",
    "print(seleccion)"
   ]
  },
  {
   "cell_type": "code",
   "execution_count": null,
   "id": "54ce7ec4",
   "metadata": {},
   "outputs": [],
   "source": []
  },
  {
   "cell_type": "code",
   "execution_count": null,
   "id": "c818d83b",
   "metadata": {},
   "outputs": [],
   "source": []
  },
  {
   "cell_type": "code",
   "execution_count": null,
   "id": "8714fdcb",
   "metadata": {},
   "outputs": [],
   "source": []
  },
  {
   "cell_type": "code",
   "execution_count": null,
   "id": "6d004dd9",
   "metadata": {},
   "outputs": [],
   "source": []
  },
  {
   "cell_type": "code",
   "execution_count": null,
   "id": "1284c26b",
   "metadata": {},
   "outputs": [],
   "source": []
  },
  {
   "cell_type": "code",
   "execution_count": null,
   "id": "79c6d313",
   "metadata": {},
   "outputs": [],
   "source": []
  },
  {
   "cell_type": "code",
   "execution_count": null,
   "id": "022a4f9f",
   "metadata": {},
   "outputs": [],
   "source": []
  },
  {
   "cell_type": "code",
   "execution_count": null,
   "id": "236bcfe4",
   "metadata": {},
   "outputs": [],
   "source": []
  },
  {
   "cell_type": "code",
   "execution_count": null,
   "id": "10686c5f",
   "metadata": {},
   "outputs": [],
   "source": []
  }
 ],
 "metadata": {
  "kernelspec": {
   "display_name": "Python 3 (ipykernel)",
   "language": "python",
   "name": "python3"
  },
  "language_info": {
   "codemirror_mode": {
    "name": "ipython",
    "version": 3
   },
   "file_extension": ".py",
   "mimetype": "text/x-python",
   "name": "python",
   "nbconvert_exporter": "python",
   "pygments_lexer": "ipython3",
   "version": "3.11.3"
  }
 },
 "nbformat": 4,
 "nbformat_minor": 5
}
