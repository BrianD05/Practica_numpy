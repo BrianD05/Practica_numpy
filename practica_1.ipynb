{
 "cells": [
  {
   "cell_type": "markdown",
   "id": "79a1ac3d",
   "metadata": {},
   "source": [
    "# Ejercicio 1: Crear un array"
   ]
  },
  {
   "cell_type": "code",
   "execution_count": 1,
   "id": "17f49bb0",
   "metadata": {},
   "outputs": [],
   "source": [
    "#Importar la biblioteca numpy\n",
    "import numpy as np"
   ]
  },
  {
   "cell_type": "code",
   "execution_count": 5,
   "id": "cc819f02",
   "metadata": {},
   "outputs": [
    {
     "name": "stdout",
     "output_type": "stream",
     "text": [
      "[0 1 2 3 4 5 6 7 8 9]\n"
     ]
    }
   ],
   "source": [
    "# Crea un array de 1D con valores del 0 al 9\n",
    "arr1 = np.arange(10)\n",
    "print(arr1)"
   ]
  },
  {
   "cell_type": "code",
   "execution_count": 8,
   "id": "779175dc",
   "metadata": {},
   "outputs": [
    {
     "name": "stdout",
     "output_type": "stream",
     "text": [
      "[[0 1 2]\n",
      " [3 4 5]\n",
      " [6 7 8]]\n"
     ]
    }
   ],
   "source": [
    "# Crea un array 2D de forma (3, 3) con valores del 0 al 8\n",
    "arr2 = np.arange(9).reshape(3,3)\n",
    "print(arr2)"
   ]
  },
  {
   "cell_type": "markdown",
   "id": "95335e4b",
   "metadata": {},
   "source": [
    "# Ejercicio 2: Operaciones básicas"
   ]
  },
  {
   "cell_type": "code",
   "execution_count": 9,
   "id": "c57d9a18",
   "metadata": {},
   "outputs": [],
   "source": [
    "# Suma, resta, multiplicación y división de dos arrays\n",
    "\n",
    "arr3 = np.array([1,2,3])\n",
    "arr4 = np.array([4,5,6])\n"
   ]
  },
  {
   "cell_type": "code",
   "execution_count": 10,
   "id": "b17d095e",
   "metadata": {},
   "outputs": [
    {
     "name": "stdout",
     "output_type": "stream",
     "text": [
      "Suma\n",
      "[5 7 9]\n"
     ]
    }
   ],
   "source": [
    "print(\"Suma\")\n",
    "suma = arr3 + arr4 \n",
    "print(suma)"
   ]
  },
  {
   "cell_type": "code",
   "execution_count": 14,
   "id": "faabf8c6",
   "metadata": {},
   "outputs": [
    {
     "name": "stdout",
     "output_type": "stream",
     "text": [
      "Resta\n",
      "[-3 -3 -3]\n"
     ]
    }
   ],
   "source": [
    "print(\"Resta\")\n",
    "resta = arr3 - arr4\n",
    "print(resta)"
   ]
  },
  {
   "cell_type": "code",
   "execution_count": 15,
   "id": "98d46c10",
   "metadata": {},
   "outputs": [
    {
     "name": "stdout",
     "output_type": "stream",
     "text": [
      "Multiplicacion\n",
      "[ 4 10 18]\n"
     ]
    }
   ],
   "source": [
    "print(\"Multiplicacion\")\n",
    "multiplicacion = arr3 * arr4 \n",
    "print(multiplicacion)"
   ]
  },
  {
   "cell_type": "code",
   "execution_count": 16,
   "id": "c1ad9ddf",
   "metadata": {},
   "outputs": [
    {
     "name": "stdout",
     "output_type": "stream",
     "text": [
      "Division\n",
      "[0.25 0.4  0.5 ]\n"
     ]
    }
   ],
   "source": [
    "print(\"Division\")\n",
    "division = arr3 / arr4\n",
    "print(division)"
   ]
  },
  {
   "cell_type": "markdown",
   "id": "c32ddf6a",
   "metadata": {},
   "source": [
    "# Ejercicio 3: Funciones estadísticas"
   ]
  },
  {
   "cell_type": "code",
   "execution_count": 17,
   "id": "12e512b7",
   "metadata": {},
   "outputs": [],
   "source": [
    "# Calcular la media, mediana y desviación estándar de un array\n",
    "\n",
    "arr5 = np.array([2,4,6,8,10])"
   ]
  },
  {
   "cell_type": "code",
   "execution_count": 18,
   "id": "b7c27442",
   "metadata": {},
   "outputs": [
    {
     "name": "stdout",
     "output_type": "stream",
     "text": [
      "Media:  6.0\n",
      "Mediana 6.0\n",
      "Desviacion Estandar 2.8284271247461903\n"
     ]
    }
   ],
   "source": [
    "print(\"Media: \",np.mean(arr5))\n",
    "print(\"Mediana\",np.median(arr5))\n",
    "print(\"Desviacion Estandar\",np.std(arr5))"
   ]
  },
  {
   "cell_type": "markdown",
   "id": "effa2063",
   "metadata": {},
   "source": [
    "# Ejercicio 4: Indexación y selección"
   ]
  },
  {
   "cell_type": "code",
   "execution_count": 22,
   "id": "a3b0e77f",
   "metadata": {},
   "outputs": [],
   "source": [
    "# Seleccionar elementos específicos de un array\n",
    "arr6 = np.array([[1, 2, 3], [4, 5, 6], [7, 8, 9]])"
   ]
  },
  {
   "cell_type": "code",
   "execution_count": 26,
   "id": "2e3d1f31",
   "metadata": {},
   "outputs": [
    {
     "name": "stdout",
     "output_type": "stream",
     "text": [
      "Segunda Columna\n",
      "[2 5 8]\n"
     ]
    }
   ],
   "source": [
    "print(\"Segunda Columna\") #[fila_inicio:fila_fin, columna]\n",
    "print(arr6[0:,1])"
   ]
  },
  {
   "cell_type": "code",
   "execution_count": 28,
   "id": "63fe1df3",
   "metadata": {},
   "outputs": [
    {
     "name": "stdout",
     "output_type": "stream",
     "text": [
      "Diagonal\n",
      "[1 5 9]\n"
     ]
    }
   ],
   "source": [
    "# Seleccionar la diagonal\n",
    "print(\"Diagonal\")\n",
    "print(np.diagonal(arr6))"
   ]
  },
  {
   "cell_type": "code",
   "execution_count": null,
   "id": "4536d4b5",
   "metadata": {},
   "outputs": [],
   "source": []
  },
  {
   "cell_type": "code",
   "execution_count": null,
   "id": "f1e500b3",
   "metadata": {},
   "outputs": [],
   "source": []
  }
 ],
 "metadata": {
  "kernelspec": {
   "display_name": "Python 3 (ipykernel)",
   "language": "python",
   "name": "python3"
  },
  "language_info": {
   "codemirror_mode": {
    "name": "ipython",
    "version": 3
   },
   "file_extension": ".py",
   "mimetype": "text/x-python",
   "name": "python",
   "nbconvert_exporter": "python",
   "pygments_lexer": "ipython3",
   "version": "3.11.3"
  }
 },
 "nbformat": 4,
 "nbformat_minor": 5
}
