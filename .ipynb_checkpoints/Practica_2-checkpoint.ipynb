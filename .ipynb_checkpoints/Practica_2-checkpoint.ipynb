{
 "cells": [
  {
   "cell_type": "markdown",
   "id": "00e2cd1a",
   "metadata": {},
   "source": [
    "# Ejercicio 1: Operaciones de Álgebra Lineal"
   ]
  },
  {
   "cell_type": "code",
   "execution_count": 1,
   "id": "b0b40139",
   "metadata": {},
   "outputs": [],
   "source": [
    "import numpy as np"
   ]
  },
  {
   "cell_type": "code",
   "execution_count": 2,
   "id": "c2c5d0bc",
   "metadata": {},
   "outputs": [],
   "source": [
    "matrix_a = np.array([[1,2],[3,4]])\n",
    "matrix_b = np.array([[5,6],[7,8]])\n"
   ]
  },
  {
   "cell_type": "code",
   "execution_count": 5,
   "id": "e6529329",
   "metadata": {},
   "outputs": [
    {
     "name": "stdout",
     "output_type": "stream",
     "text": [
      "[[19 22]\n",
      " [43 50]]\n"
     ]
    }
   ],
   "source": [
    "# Realiza la multiplicación de matrices\n",
    "resultado_matrix = np.dot(matrix_a,matrix_b)\n",
    "print(resultado_matrix)"
   ]
  },
  {
   "cell_type": "code",
   "execution_count": 6,
   "id": "e16a0dc5",
   "metadata": {},
   "outputs": [
    {
     "name": "stdout",
     "output_type": "stream",
     "text": [
      "Matriz A\n",
      "[[1 2]\n",
      " [3 4]]\n"
     ]
    }
   ],
   "source": [
    "print(\"Matriz A\")\n",
    "print(matrix_a)"
   ]
  },
  {
   "cell_type": "code",
   "execution_count": 7,
   "id": "ff6591d9",
   "metadata": {},
   "outputs": [
    {
     "name": "stdout",
     "output_type": "stream",
     "text": [
      "Matriz B\n",
      "[[5 6]\n",
      " [7 8]]\n"
     ]
    }
   ],
   "source": [
    "print(\"Matriz B\")\n",
    "print(matrix_b)"
   ]
  },
  {
   "cell_type": "code",
   "execution_count": 9,
   "id": "6241b778",
   "metadata": {},
   "outputs": [
    {
     "name": "stdout",
     "output_type": "stream",
     "text": [
      "Matriz de la multiplicacion de matrices: \n",
      "[[19 22]\n",
      " [43 50]]\n"
     ]
    }
   ],
   "source": [
    "print(\"Matriz de la multiplicacion de matrices: \")\n",
    "\n",
    "print(resultado_matrix)"
   ]
  },
  {
   "cell_type": "markdown",
   "id": "dfb79738",
   "metadata": {},
   "source": [
    "# Ejercicio 2: Trabajo con booleanos"
   ]
  },
  {
   "cell_type": "code",
   "execution_count": 10,
   "id": "e5671fd3",
   "metadata": {},
   "outputs": [],
   "source": [
    "random_array = np.random.randint(1,11,size = (3,3))"
   ]
  },
  {
   "cell_type": "code",
   "execution_count": 11,
   "id": "e23cf61e",
   "metadata": {},
   "outputs": [
    {
     "name": "stdout",
     "output_type": "stream",
     "text": [
      "Array Aleatorio\n",
      "[[ 5 10  6]\n",
      " [ 9  9  9]\n",
      " [ 9  3  6]]\n"
     ]
    }
   ],
   "source": [
    "print(\"Array Aleatorio\")\n",
    "print(random_array)"
   ]
  },
  {
   "cell_type": "code",
   "execution_count": 12,
   "id": "ce865d73",
   "metadata": {},
   "outputs": [
    {
     "name": "stdout",
     "output_type": "stream",
     "text": [
      "Elementos mayores que 5\n",
      "[10  6  9  9  9  9  6]\n"
     ]
    }
   ],
   "source": [
    "# Encuentra los elementos mayores que 5\n",
    "print(\"Elementos mayores que 5\")\n",
    "print(random_array[random_array > 5])"
   ]
  },
  {
   "cell_type": "code",
   "execution_count": 13,
   "id": "1a38a7b9",
   "metadata": {},
   "outputs": [
    {
     "name": "stdout",
     "output_type": "stream",
     "text": [
      "Algun elemento igual a 3?\n",
      "True\n"
     ]
    }
   ],
   "source": [
    "# Verifica si algún elemento es igual a 3\n",
    "print(\"Algun elemento igual a 3?\")\n",
    "print(np.any(random_array == 3))"
   ]
  },
  {
   "cell_type": "markdown",
   "id": "14330450",
   "metadata": {},
   "source": [
    "# Ejercicio 3: Funciones universales (ufunc)"
   ]
  },
  {
   "cell_type": "code",
   "execution_count": 15,
   "id": "70336398",
   "metadata": {},
   "outputs": [
    {
     "name": "stdout",
     "output_type": "stream",
     "text": [
      "[1 2 3 4 5]\n"
     ]
    }
   ],
   "source": [
    "# Crea un array de números\n",
    "arr = np.array([1,2,3,4,5])\n",
    "print(arr)"
   ]
  },
  {
   "cell_type": "code",
   "execution_count": 16,
   "id": "5208846a",
   "metadata": {},
   "outputs": [
    {
     "name": "stdout",
     "output_type": "stream",
     "text": [
      "Original array:\n",
      "[1 2 3 4 5]\n"
     ]
    }
   ],
   "source": [
    "# Aplica funciones universales (ufunc)\n",
    "print(\"Original array:\")\n",
    "print(arr)"
   ]
  },
  {
   "cell_type": "code",
   "execution_count": 17,
   "id": "bc5389ba",
   "metadata": {},
   "outputs": [
    {
     "name": "stdout",
     "output_type": "stream",
     "text": [
      "\n",
      "Raíz cuadrada de cada elemento:\n",
      "[1.         1.41421356 1.73205081 2.         2.23606798]\n"
     ]
    }
   ],
   "source": [
    "print(\"\\nRaíz cuadrada de cada elemento:\")\n",
    "print(np.sqrt(arr))"
   ]
  },
  {
   "cell_type": "code",
   "execution_count": 18,
   "id": "43132730",
   "metadata": {},
   "outputs": [
    {
     "name": "stdout",
     "output_type": "stream",
     "text": [
      "\n",
      "Exponencial de cada elemento:\n",
      "[  2.71828183   7.3890561   20.08553692  54.59815003 148.4131591 ]\n"
     ]
    }
   ],
   "source": [
    "print(\"\\nExponencial de cada elemento:\")\n",
    "print(np.exp(arr))"
   ]
  },
  {
   "cell_type": "markdown",
   "id": "246fc071",
   "metadata": {},
   "source": [
    "# Ejercicio 4: Crear un array con valores espaciados"
   ]
  },
  {
   "cell_type": "code",
   "execution_count": 19,
   "id": "64ec25b4",
   "metadata": {},
   "outputs": [],
   "source": [
    "# Crea un array de 5 valores espaciados uniformemente entre 0 y 1\n",
    "\n",
    "arr_uniform = np.linspace(0,1,5)"
   ]
  },
  {
   "cell_type": "code",
   "execution_count": 20,
   "id": "3ec99cca",
   "metadata": {},
   "outputs": [],
   "source": [
    "arr_log = np.logspace(0,2,5)"
   ]
  },
  {
   "cell_type": "code",
   "execution_count": 22,
   "id": "951d60c0",
   "metadata": {},
   "outputs": [
    {
     "name": "stdout",
     "output_type": "stream",
     "text": [
      "Array uniformemente espaciado:\n",
      "[0.   0.25 0.5  0.75 1.  ]\n"
     ]
    }
   ],
   "source": [
    "print(\"Array uniformemente espaciado:\")\n",
    "print(arr_uniform)"
   ]
  },
  {
   "cell_type": "code",
   "execution_count": 24,
   "id": "d3c64c97",
   "metadata": {},
   "outputs": [
    {
     "name": "stdout",
     "output_type": "stream",
     "text": [
      "\n",
      "Array logarítmicamente espaciado:\n",
      "[  1.           3.16227766  10.          31.6227766  100.        ]\n"
     ]
    }
   ],
   "source": [
    "print(\"\\nArray logarítmicamente espaciado:\")\n",
    "\n",
    "print(arr_log)"
   ]
  },
  {
   "cell_type": "code",
   "execution_count": null,
   "id": "31b1a749",
   "metadata": {},
   "outputs": [],
   "source": []
  },
  {
   "cell_type": "code",
   "execution_count": null,
   "id": "9c064798",
   "metadata": {},
   "outputs": [],
   "source": []
  },
  {
   "cell_type": "code",
   "execution_count": null,
   "id": "bc359927",
   "metadata": {},
   "outputs": [],
   "source": []
  }
 ],
 "metadata": {
  "kernelspec": {
   "display_name": "Python 3 (ipykernel)",
   "language": "python",
   "name": "python3"
  },
  "language_info": {
   "codemirror_mode": {
    "name": "ipython",
    "version": 3
   },
   "file_extension": ".py",
   "mimetype": "text/x-python",
   "name": "python",
   "nbconvert_exporter": "python",
   "pygments_lexer": "ipython3",
   "version": "3.11.3"
  }
 },
 "nbformat": 4,
 "nbformat_minor": 5
}
