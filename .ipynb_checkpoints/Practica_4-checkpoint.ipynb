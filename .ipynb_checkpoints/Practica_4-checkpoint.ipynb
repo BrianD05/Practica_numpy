{
 "cells": [
  {
   "cell_type": "markdown",
   "id": "f235c752",
   "metadata": {},
   "source": [
    "# Ejercicio 1: Crear un array 2D y realizar operaciones"
   ]
  },
  {
   "cell_type": "code",
   "execution_count": 14,
   "id": "0b2507f9",
   "metadata": {},
   "outputs": [],
   "source": [
    "# Crea un array 2D de forma (3, 4) con valores aleatorios entre 1 y 100\n",
    "\n",
    "import numpy as np\n",
    "\n",
    "array1 = np.random.randint(1,101,size=(3,4))"
   ]
  },
  {
   "cell_type": "code",
   "execution_count": 15,
   "id": "8931df81",
   "metadata": {},
   "outputs": [
    {
     "name": "stdout",
     "output_type": "stream",
     "text": [
      "[[47 10 65  1]\n",
      " [19 71 75 57]\n",
      " [97 13 56 23]]\n"
     ]
    }
   ],
   "source": [
    "# Imprime el array original\n",
    "print(array1)"
   ]
  },
  {
   "cell_type": "code",
   "execution_count": 16,
   "id": "c1c97778",
   "metadata": {},
   "outputs": [],
   "source": [
    "# Calcula la suma de cada fila\n",
    "suma_fila = np.sum(array1,axis = 1)"
   ]
  },
  {
   "cell_type": "code",
   "execution_count": 17,
   "id": "6132bbbe",
   "metadata": {},
   "outputs": [],
   "source": [
    "# Calcula el promedio de cada columna\n",
    "promedio_columna = np.mean(array1,axis = 0)"
   ]
  },
  {
   "cell_type": "code",
   "execution_count": 18,
   "id": "28fc4e02",
   "metadata": {},
   "outputs": [
    {
     "name": "stdout",
     "output_type": "stream",
     "text": [
      "La suma es:  [123 222 189]\n"
     ]
    }
   ],
   "source": [
    "print(\"La suma es: \",suma_fila)"
   ]
  },
  {
   "cell_type": "code",
   "execution_count": 19,
   "id": "8c8b5056",
   "metadata": {},
   "outputs": [
    {
     "name": "stdout",
     "output_type": "stream",
     "text": [
      "El promedio es:  [54.33333333 31.33333333 65.33333333 27.        ]\n"
     ]
    }
   ],
   "source": [
    "print(\"El promedio es: \",promedio_columna)"
   ]
  },
  {
   "cell_type": "markdown",
   "id": "b596b315",
   "metadata": {},
   "source": [
    "# Ejercicio 2: Operaciones lógicas y filtrado"
   ]
  },
  {
   "cell_type": "code",
   "execution_count": 20,
   "id": "8cc70d38",
   "metadata": {},
   "outputs": [],
   "source": [
    "# Crea un array de 1D con números aleatorios entre 1 y 20\n",
    "\n",
    "array2 = np.random.randint(1,21,size = 10)"
   ]
  },
  {
   "cell_type": "code",
   "execution_count": 21,
   "id": "bca0128e",
   "metadata": {},
   "outputs": [
    {
     "name": "stdout",
     "output_type": "stream",
     "text": [
      "[16 11 12 11 19  2  1 17 17 11]\n"
     ]
    }
   ],
   "source": [
    "# Imprime el array original\n",
    "print(array2)"
   ]
  },
  {
   "cell_type": "code",
   "execution_count": 22,
   "id": "2fb7c1a9",
   "metadata": {},
   "outputs": [],
   "source": [
    "# Encuentra los elementos mayores que 10\n",
    "mayores_que_10 = array2[array2 > 10]"
   ]
  },
  {
   "cell_type": "code",
   "execution_count": 24,
   "id": "0e45d83c",
   "metadata": {},
   "outputs": [],
   "source": [
    "# Encuentra los elementos pares\n",
    "elementos_pares = array2[array2 %2==0]"
   ]
  },
  {
   "cell_type": "code",
   "execution_count": 25,
   "id": "91471e13",
   "metadata": {},
   "outputs": [
    {
     "name": "stdout",
     "output_type": "stream",
     "text": [
      "Numeros mayores a 10\n",
      "[16 11 12 11 19 17 17 11]\n"
     ]
    }
   ],
   "source": [
    "print(\"Numeros mayores a 10\")\n",
    "print(mayores_que_10)"
   ]
  },
  {
   "cell_type": "code",
   "execution_count": 26,
   "id": "22b98828",
   "metadata": {},
   "outputs": [
    {
     "name": "stdout",
     "output_type": "stream",
     "text": [
      "Numeros Pares\n",
      "[16 12  2]\n"
     ]
    }
   ],
   "source": [
    "print(\"Numeros Pares\")\n",
    "print(elementos_pares)"
   ]
  },
  {
   "cell_type": "markdown",
   "id": "08299f3f",
   "metadata": {},
   "source": [
    "# Ejercicio 3: Crear una matriz identidad"
   ]
  },
  {
   "cell_type": "code",
   "execution_count": 27,
   "id": "6a662633",
   "metadata": {},
   "outputs": [],
   "source": [
    "# Crea una matriz identidad de tamaño 5x5\n",
    "matriz = np.eye(5)"
   ]
  },
  {
   "cell_type": "code",
   "execution_count": 28,
   "id": "a9e06e18",
   "metadata": {},
   "outputs": [
    {
     "name": "stdout",
     "output_type": "stream",
     "text": [
      "Matriz Identidad\n",
      "[[1. 0. 0. 0. 0.]\n",
      " [0. 1. 0. 0. 0.]\n",
      " [0. 0. 1. 0. 0.]\n",
      " [0. 0. 0. 1. 0.]\n",
      " [0. 0. 0. 0. 1.]]\n"
     ]
    }
   ],
   "source": [
    "print(\"Matriz Identidad\")\n",
    "print(matriz)"
   ]
  },
  {
   "cell_type": "markdown",
   "id": "4d02e2cd",
   "metadata": {},
   "source": [
    "# Ejercicio 4: Concatenación de Arrays"
   ]
  },
  {
   "cell_type": "code",
   "execution_count": 29,
   "id": "dcc7678a",
   "metadata": {},
   "outputs": [],
   "source": [
    "# Crea dos arrays 1D\n",
    "array_1 = np.array([1,2,3])\n",
    "array_2 = np.array([4,5,6])"
   ]
  },
  {
   "cell_type": "code",
   "execution_count": 30,
   "id": "2f0a231e",
   "metadata": {},
   "outputs": [],
   "source": [
    "# Concatena los dos arrays horizontalmente\n",
    "concatenacion_horizontal = np.hstack((array_1,array_2))"
   ]
  },
  {
   "cell_type": "code",
   "execution_count": 32,
   "id": "73af8400",
   "metadata": {},
   "outputs": [],
   "source": [
    "# Concatena los dos arrays verticalmente\n",
    "concatenacion_vertical = np.vstack((array_1,array_2))"
   ]
  },
  {
   "cell_type": "code",
   "execution_count": 33,
   "id": "888779f2",
   "metadata": {},
   "outputs": [
    {
     "name": "stdout",
     "output_type": "stream",
     "text": [
      "Array 1\n",
      "[1 2 3]\n"
     ]
    }
   ],
   "source": [
    "print(\"Array 1\")\n",
    "print(array_1)"
   ]
  },
  {
   "cell_type": "code",
   "execution_count": 34,
   "id": "a7d52ba9",
   "metadata": {},
   "outputs": [
    {
     "name": "stdout",
     "output_type": "stream",
     "text": [
      "Array 2\n",
      "[4 5 6]\n"
     ]
    }
   ],
   "source": [
    "print(\"Array 2\")\n",
    "print(array_2)"
   ]
  },
  {
   "cell_type": "code",
   "execution_count": 35,
   "id": "bc553d6b",
   "metadata": {},
   "outputs": [
    {
     "name": "stdout",
     "output_type": "stream",
     "text": [
      "Concatenacion Horizontal\n",
      "[1 2 3 4 5 6]\n"
     ]
    }
   ],
   "source": [
    "print(\"Concatenacion Horizontal\")\n",
    "print(concatenacion_horizontal)"
   ]
  },
  {
   "cell_type": "code",
   "execution_count": 36,
   "id": "82937aec",
   "metadata": {},
   "outputs": [
    {
     "name": "stdout",
     "output_type": "stream",
     "text": [
      "Concatenacion Vertical\n",
      "[[1 2 3]\n",
      " [4 5 6]]\n"
     ]
    }
   ],
   "source": [
    "print(\"Concatenacion Vertical\")\n",
    "print(concatenacion_vertical)"
   ]
  },
  {
   "cell_type": "code",
   "execution_count": null,
   "id": "c5686327",
   "metadata": {},
   "outputs": [],
   "source": []
  }
 ],
 "metadata": {
  "kernelspec": {
   "display_name": "Python 3 (ipykernel)",
   "language": "python",
   "name": "python3"
  },
  "language_info": {
   "codemirror_mode": {
    "name": "ipython",
    "version": 3
   },
   "file_extension": ".py",
   "mimetype": "text/x-python",
   "name": "python",
   "nbconvert_exporter": "python",
   "pygments_lexer": "ipython3",
   "version": "3.11.3"
  }
 },
 "nbformat": 4,
 "nbformat_minor": 5
}
