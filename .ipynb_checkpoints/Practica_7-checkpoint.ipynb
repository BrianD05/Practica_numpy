{
 "cells": [
  {
   "cell_type": "markdown",
   "id": "58d7c4bf",
   "metadata": {},
   "source": [
    "# Creación de Arrays:"
   ]
  },
  {
   "cell_type": "code",
   "execution_count": 4,
   "id": "b0b703fc",
   "metadata": {},
   "outputs": [],
   "source": [
    "import numpy as np\n",
    "#Crea un array unidimensional con los números del 1 al 10.\n",
    "\n",
    "array_1 = np.arange(1,11)"
   ]
  },
  {
   "cell_type": "code",
   "execution_count": 3,
   "id": "ac0bf58d",
   "metadata": {},
   "outputs": [
    {
     "name": "stdout",
     "output_type": "stream",
     "text": [
      "[1 2 3 4 5 6 7 8 9]\n"
     ]
    }
   ],
   "source": [
    "print(array_1)"
   ]
  },
  {
   "cell_type": "code",
   "execution_count": 7,
   "id": "a02468dd",
   "metadata": {},
   "outputs": [],
   "source": [
    "#Crea un array bidimensional (matriz) de 3x3 con valores aleatorios.\n",
    "array_2 = np.random.randint(1,11,size = (3,3))"
   ]
  },
  {
   "cell_type": "code",
   "execution_count": 8,
   "id": "c641b9ee",
   "metadata": {},
   "outputs": [
    {
     "name": "stdout",
     "output_type": "stream",
     "text": [
      "[[ 4  2 10]\n",
      " [10  2 10]\n",
      " [ 9  6 10]]\n"
     ]
    }
   ],
   "source": [
    "print(array_2)"
   ]
  },
  {
   "cell_type": "code",
   "execution_count": 11,
   "id": "e9f5598a",
   "metadata": {},
   "outputs": [],
   "source": [
    "#Crea un array de ceros de tamaño 5x5.\n",
    "\n",
    "array_3 = np.zeros((5,5))"
   ]
  },
  {
   "cell_type": "code",
   "execution_count": 12,
   "id": "aca3f9fb",
   "metadata": {},
   "outputs": [
    {
     "name": "stdout",
     "output_type": "stream",
     "text": [
      "[[0. 0. 0. 0. 0.]\n",
      " [0. 0. 0. 0. 0.]\n",
      " [0. 0. 0. 0. 0.]\n",
      " [0. 0. 0. 0. 0.]\n",
      " [0. 0. 0. 0. 0.]]\n"
     ]
    }
   ],
   "source": [
    "print(array_3)"
   ]
  },
  {
   "cell_type": "code",
   "execution_count": 14,
   "id": "e414b679",
   "metadata": {},
   "outputs": [],
   "source": [
    "#Crea un array de unos de tamaño 2x4.\n",
    "array_4 = np.ones((2,4))"
   ]
  },
  {
   "cell_type": "code",
   "execution_count": 15,
   "id": "38923837",
   "metadata": {},
   "outputs": [
    {
     "name": "stdout",
     "output_type": "stream",
     "text": [
      "[[1. 1. 1. 1.]\n",
      " [1. 1. 1. 1.]]\n"
     ]
    }
   ],
   "source": [
    "print(array_4)"
   ]
  },
  {
   "cell_type": "markdown",
   "id": "918a957a",
   "metadata": {},
   "source": [
    "# Operaciones Básicas"
   ]
  },
  {
   "cell_type": "code",
   "execution_count": 16,
   "id": "5a17664a",
   "metadata": {},
   "outputs": [
    {
     "name": "stdout",
     "output_type": "stream",
     "text": [
      "[1 2 3 4 5]\n",
      "[ 6  7  8  9 10]\n",
      "Resultado de la suma de elemento por elemento:  [ 7  9 11 13 15]\n"
     ]
    }
   ],
   "source": [
    "#Dados dos arrays unidimensionales A y B, realiza la suma elemento por elemento.\n",
    "\n",
    "A = np.array([1, 2, 3, 4, 5])\n",
    "B = np.array([6, 7, 8, 9, 10])\n",
    "\n",
    "suma_elemento_por_elemento = A + B\n",
    "\n",
    "print(A)\n",
    "print(B)\n",
    "print(\"Resultado de la suma de elemento por elemento: \",suma_elemento_por_elemento)"
   ]
  },
  {
   "cell_type": "code",
   "execution_count": 17,
   "id": "7e3f89f0",
   "metadata": {},
   "outputs": [
    {
     "name": "stdout",
     "output_type": "stream",
     "text": [
      "[-5 -5 -5 -5 -5]\n"
     ]
    }
   ],
   "source": [
    "#Dados dos arrays unidimensionales C y D, realiza la resta elemento por elemento.\n",
    "\n",
    "# Array C\n",
    "C = np.array([11, 12, 13, 14, 15])\n",
    "\n",
    "# Array D\n",
    "D = np.array([16, 17, 18, 19, 20])\n",
    "\n",
    "resta = C - D\n",
    "\n",
    "print(resta)"
   ]
  },
  {
   "cell_type": "code",
   "execution_count": 18,
   "id": "b3315f6a",
   "metadata": {},
   "outputs": [
    {
     "name": "stdout",
     "output_type": "stream",
     "text": [
      "[546 594 644 696 750]\n"
     ]
    }
   ],
   "source": [
    "#Dados dos arrays unidimensionales E y F, realiza la multiplicación elemento por elemento.\n",
    "\n",
    "# Array E\n",
    "E = np.array([21, 22, 23, 24, 25])\n",
    "\n",
    "# Array F\n",
    "F = np.array([26, 27, 28, 29, 30])\n",
    "\n",
    "multiplicacion = E * F \n",
    "\n",
    "print(multiplicacion)"
   ]
  },
  {
   "cell_type": "code",
   "execution_count": 19,
   "id": "07103a09",
   "metadata": {},
   "outputs": [
    {
     "name": "stdout",
     "output_type": "stream",
     "text": [
      "[0.86111111 0.86486486 0.86842105 0.87179487 0.875     ]\n"
     ]
    }
   ],
   "source": [
    "#Dados dos arrays unidimensionales G y H, realiza la división elemento por elemento.\n",
    "\n",
    "# Array G\n",
    "G = np.array([31, 32, 33, 34, 35])\n",
    "\n",
    "# Array H\n",
    "H = np.array([36, 37, 38, 39, 40])\n",
    "\n",
    "division = G / H \n",
    "\n",
    "print(division)"
   ]
  },
  {
   "cell_type": "code",
   "execution_count": 22,
   "id": "36e7d3cd",
   "metadata": {},
   "outputs": [
    {
     "name": "stdout",
     "output_type": "stream",
     "text": [
      "[[2635 2068 2334]\n",
      " [2457 2189 1388]\n",
      " [1292 1052 2512]]\n"
     ]
    }
   ],
   "source": [
    "#Crea dos matrices cuadradas aleatorias A y B de tamaño 3x3 y calcula su producto punto.\n",
    "\n",
    "array_aleatoria1 = np.random.randint(1,50,size = (3,3))\n",
    "array_aleatoria2 = np.random.randint(1,50,size = (3,3))\n",
    "\n",
    "producto_punto = np.dot(array_aleatoria1,array_aleatoria2)\n",
    "\n",
    "print(producto_punto)"
   ]
  },
  {
   "cell_type": "code",
   "execution_count": 29,
   "id": "44aacacc",
   "metadata": {},
   "outputs": [
    {
     "name": "stdout",
     "output_type": "stream",
     "text": [
      "[[7 6 7 2]\n",
      " [4 9 4 5]\n",
      " [5 4 5 3]\n",
      " [8 2 2 7]]\n",
      "\n",
      "[[7 4 5 8]\n",
      " [6 9 4 2]\n",
      " [7 4 5 2]\n",
      " [2 5 3 7]]\n"
     ]
    }
   ],
   "source": [
    "#Crea una matriz cuadrada C de tamaño 4x4 y transpónla.\n",
    "\n",
    "C = np.random.randint(1,10,size = (4,4))\n",
    "trasponer = np.transpose(C)\n",
    "print(C)\n",
    "print()\n",
    "print(trasponer)"
   ]
  },
  {
   "cell_type": "markdown",
   "id": "33c68e46",
   "metadata": {},
   "source": [
    "# Operaciones Estadísticas"
   ]
  },
  {
   "cell_type": "code",
   "execution_count": 31,
   "id": "8bbee4b0",
   "metadata": {},
   "outputs": [
    {
     "name": "stdout",
     "output_type": "stream",
     "text": [
      "[[3 1 6]\n",
      " [4 5 7]\n",
      " [6 5 1]]\n",
      "\n",
      "4.222222222222222\n"
     ]
    }
   ],
   "source": [
    "#Crea un array de números aleatorios y calcula su media.\n",
    "array_aleatorio_1 = np.random.randint(1,10,size = (3,3))\n",
    "\n",
    "media = np.mean(array_aleatorio_1)\n",
    "print(array_aleatorio_1)\n",
    "print()\n",
    "print(media)"
   ]
  },
  {
   "cell_type": "code",
   "execution_count": 33,
   "id": "1d48cf20",
   "metadata": {},
   "outputs": [
    {
     "name": "stdout",
     "output_type": "stream",
     "text": [
      "[[39 95 27 65]\n",
      " [39 76  4 27]\n",
      " [58 47 47 34]]\n",
      "\n",
      "558\n"
     ]
    }
   ],
   "source": [
    "#Crea una matriz de 3x4 con números aleatorios y calcula la suma de sus elementos.\n",
    "\n",
    "array_aleatorios2 = np.random.randint(1,101,size = (3,4))\n",
    "\n",
    "print(array_aleatorios2)\n",
    "\n",
    "print()\n",
    "\n",
    "suma = np.sum(array_aleatorios2)\n",
    "\n",
    "print(suma)"
   ]
  },
  {
   "cell_type": "code",
   "execution_count": 45,
   "id": "55ef6a43",
   "metadata": {},
   "outputs": [
    {
     "name": "stdout",
     "output_type": "stream",
     "text": [
      "[10 22 27]\n",
      "\n",
      "El Maximo es 27 y el minimo es 10\n"
     ]
    }
   ],
   "source": [
    "#Crea un array de 1D y encuentra el valor mínimo y máximo.\n",
    "\n",
    "array = np.random.randint(1,30,size = 3)\n",
    "print(array)\n",
    "print()\n",
    "\n",
    "maximo = np.max(array)\n",
    "minimo = np.min(array)\n",
    "\n",
    "print(f\"El Maximo es {maximo} y el minimo es {minimo}\")"
   ]
  },
  {
   "cell_type": "markdown",
   "id": "eb30e251",
   "metadata": {},
   "source": [
    "# Manipulación de Arrays:"
   ]
  },
  {
   "cell_type": "code",
   "execution_count": 46,
   "id": "199ca29d",
   "metadata": {},
   "outputs": [
    {
     "name": "stdout",
     "output_type": "stream",
     "text": [
      "Array X: [1 2 3]\n",
      "Array Y: [4 5 6]\n",
      "Concatenación Horizontal: [1 2 3 4 5 6]\n"
     ]
    }
   ],
   "source": [
    "# Crea dos arrays unidimensionales X e Y\n",
    "X = np.array([1, 2, 3])\n",
    "Y = np.array([4, 5, 6])\n",
    "\n",
    "# Concatena horizontalmente los dos arrays\n",
    "concatenacion_horizontal = np.concatenate((X, Y), axis=0)\n",
    "\n",
    "print(\"Array X:\", X)\n",
    "print(\"Array Y:\", Y)\n",
    "print(\"Concatenación Horizontal:\", concatenacion_horizontal)"
   ]
  },
  {
   "cell_type": "code",
   "execution_count": 48,
   "id": "d0dc5009",
   "metadata": {},
   "outputs": [
    {
     "name": "stdout",
     "output_type": "stream",
     "text": [
      "Matriz Z1:\n",
      "[[ 7  8]\n",
      " [ 9 10]]\n",
      "Matriz Z2:\n",
      "[[11 12]\n",
      " [13 14]]\n",
      "Concatenación Vertical:\n",
      "[[ 7  8]\n",
      " [ 9 10]\n",
      " [11 12]\n",
      " [13 14]]\n"
     ]
    }
   ],
   "source": [
    "# Crea dos matrices cuadradas Z1 y Z2\n",
    "Z1 = np.array([[7, 8], [9, 10]])\n",
    "Z2 = np.array([[11, 12], [13, 14]])\n",
    "\n",
    "# Concatena verticalmente las dos matrices\n",
    "concatenacion_vertical = np.concatenate((Z1, Z2), axis=0)\n",
    "\n",
    "print(\"Matriz Z1:\")\n",
    "print(Z1)\n",
    "print(\"Matriz Z2:\")\n",
    "print(Z2)\n",
    "print(\"Concatenación Vertical:\")\n",
    "print(concatenacion_vertical)\n"
   ]
  },
  {
   "cell_type": "code",
   "execution_count": 49,
   "id": "5587b39d",
   "metadata": {},
   "outputs": [
    {
     "name": "stdout",
     "output_type": "stream",
     "text": [
      "Array Original:\n",
      "[15 16 17 18 19 20 21 22 23]\n",
      "Subarrays después de la División:\n",
      "[array([15, 16, 17]), array([18, 19, 20]), array([21, 22, 23])]\n"
     ]
    }
   ],
   "source": [
    "# Crea un array de 1D\n",
    "array_1d = np.array([15, 16, 17, 18, 19, 20, 21, 22, 23])\n",
    "\n",
    "# Divide el array en tres subarrays de igual tamaño\n",
    "subarrays = np.split(array_1d, 3)\n",
    "\n",
    "print(\"Array Original:\")\n",
    "print(array_1d)\n",
    "print(\"Subarrays después de la División:\")\n",
    "print(subarrays)\n"
   ]
  },
  {
   "cell_type": "markdown",
   "id": "d8ce62d0",
   "metadata": {},
   "source": [
    "# Álgebra Lineal"
   ]
  },
  {
   "cell_type": "code",
   "execution_count": 50,
   "id": "bc249f0f",
   "metadata": {},
   "outputs": [
    {
     "name": "stdout",
     "output_type": "stream",
     "text": [
      "2.0\n"
     ]
    }
   ],
   "source": [
    "#Crea una matriz cuadrada D de tamaño 2x2 y calcula su determinante.\n",
    "matriz = np.array([[1,2],[2,6]])\n",
    "\n",
    "determinante = np.linalg.det(matriz)\n",
    "\n",
    "print(determinante)"
   ]
  },
  {
   "cell_type": "code",
   "execution_count": 52,
   "id": "24484fcf",
   "metadata": {},
   "outputs": [
    {
     "name": "stdout",
     "output_type": "stream",
     "text": [
      "[[-0.41428571 -0.18571429  0.32857143]\n",
      " [ 0.21428571 -0.21428571  0.07142857]\n",
      " [ 0.08571429  0.31428571 -0.17142857]]\n"
     ]
    }
   ],
   "source": [
    "#Crea una matriz cuadrada E de tamaño 3x3 y calcula su inversa.\n",
    "\n",
    "matrix_3_x_3 = np.array([[1, 5, 4], [3, 3, 7], [6, 8, 9]])\n",
    "\n",
    "matriz_inversa = np.linalg.inv(matrix_3_x_3)\n",
    "\n",
    "print(matriz_inversa)"
   ]
  },
  {
   "cell_type": "code",
   "execution_count": 54,
   "id": "55189fd5",
   "metadata": {},
   "outputs": [
    {
     "name": "stdout",
     "output_type": "stream",
     "text": [
      "(array([14.14097816+0.j        , -5.38805934+0.j        ,\n",
      "       -0.87645941+0.87601629j, -0.87645941-0.87601629j]), array([[ 0.49788311+0.j        ,  0.55387172+0.j        ,\n",
      "        -0.32346121-0.00149312j, -0.32346121+0.00149312j],\n",
      "       [ 0.45084533+0.j        ,  0.29279519+0.j        ,\n",
      "         0.79934186+0.j        ,  0.79934186-0.j        ],\n",
      "       [ 0.55796367+0.j        , -0.41312987+0.j        ,\n",
      "        -0.44280259-0.17339111j, -0.44280259+0.17339111j],\n",
      "       [ 0.48736786+0.j        , -0.66092421+0.j        ,\n",
      "        -0.09377116+0.14660001j, -0.09377116-0.14660001j]]))\n"
     ]
    }
   ],
   "source": [
    "#Crea una matriz cuadrada F de tamaño 4x4 y calcula sus valores propios y vectores propios.\n",
    "\n",
    "F = np.array([[1,4,5,4],[4,2,1,6],[6,5,3,2],[7,4,2,1]])\n",
    "\n",
    "valores_vectores_propios = np.linalg.eig(F)\n",
    "\n",
    "print(valores_vectores_propios)"
   ]
  },
  {
   "cell_type": "markdown",
   "id": "51a7bdc4",
   "metadata": {},
   "source": [
    "# Funciones Universales (ufunc)"
   ]
  },
  {
   "cell_type": "code",
   "execution_count": 56,
   "id": "1b0d7150",
   "metadata": {},
   "outputs": [
    {
     "name": "stdout",
     "output_type": "stream",
     "text": [
      "[ 0.00000000e+00  1.75010154e-02  3.49966701e-02  5.24816050e-02\n",
      "  6.99504644e-02  8.73978972e-02  1.04818559e-01  1.22207115e-01\n",
      "  1.39558237e-01  1.56866611e-01  1.74126935e-01  1.91333923e-01\n",
      "  2.08482304e-01  2.25566824e-01  2.42582252e-01  2.59523374e-01\n",
      "  2.76385002e-01  2.93161971e-01  3.09849141e-01  3.26441402e-01\n",
      "  3.42933671e-01  3.59320897e-01  3.75598059e-01  3.91760172e-01\n",
      "  4.07802285e-01  4.23719485e-01  4.39506896e-01  4.55159682e-01\n",
      "  4.70673048e-01  4.86042243e-01  5.01262559e-01  5.16329334e-01\n",
      "  5.31237952e-01  5.45983848e-01  5.60562503e-01  5.74969454e-01\n",
      "  5.89200286e-01  6.03250640e-01  6.17116214e-01  6.30792759e-01\n",
      "  6.44276087e-01  6.57562067e-01  6.70646630e-01  6.83525768e-01\n",
      "  6.96195536e-01  7.08652053e-01  7.20891503e-01  7.32910138e-01\n",
      "  7.44704276e-01  7.56270304e-01  7.67604680e-01  7.78703931e-01\n",
      "  7.89564659e-01  8.00183536e-01  8.10557309e-01  8.20682802e-01\n",
      "  8.30556912e-01  8.40176614e-01  8.49538964e-01  8.58641091e-01\n",
      "  8.67480210e-01  8.76053611e-01  8.84358669e-01  8.92392840e-01\n",
      "  9.00153664e-01  9.07638762e-01  9.14845842e-01  9.21772696e-01\n",
      "  9.28417204e-01  9.34777328e-01  9.40851123e-01  9.46636725e-01\n",
      "  9.52132365e-01  9.57336358e-01  9.62247110e-01  9.66863117e-01\n",
      "  9.71182966e-01  9.75205332e-01  9.78928984e-01  9.82352781e-01\n",
      "  9.85475675e-01  9.88296709e-01  9.90815018e-01  9.93029832e-01\n",
      "  9.94940472e-01  9.96546353e-01  9.97846983e-01  9.98841963e-01\n",
      "  9.99530989e-01  9.99913850e-01  9.99990428e-01  9.99760700e-01\n",
      "  9.99224736e-01  9.98382700e-01  9.97234852e-01  9.95781541e-01\n",
      "  9.94023213e-01  9.91960407e-01  9.89593754e-01  9.86923981e-01\n",
      "  9.83951903e-01  9.80678432e-01  9.77104571e-01  9.73231413e-01\n",
      "  9.69060146e-01  9.64592047e-01  9.59828485e-01  9.54770919e-01\n",
      "  9.49420898e-01  9.43780061e-01  9.37850135e-01  9.31632938e-01\n",
      "  9.25130373e-01  9.18344432e-01  9.11277194e-01  9.03930823e-01\n",
      "  8.96307571e-01  8.88409771e-01  8.80239844e-01  8.71800291e-01\n",
      "  8.63093698e-01  8.54122731e-01  8.44890139e-01  8.35398750e-01\n",
      "  8.25651470e-01  8.15651286e-01  8.05401261e-01  7.94904534e-01\n",
      "  7.84164320e-01  7.73183910e-01  7.61966667e-01  7.50516027e-01\n",
      "  7.38835496e-01  7.26928654e-01  7.14799147e-01  7.02450691e-01\n",
      "  6.89887067e-01  6.77112125e-01  6.64129778e-01  6.50944001e-01\n",
      "  6.37558835e-01  6.23978378e-01  6.10206791e-01  5.96248293e-01\n",
      "  5.82107158e-01  5.67787719e-01  5.53294361e-01  5.38631524e-01\n",
      "  5.23803699e-01  5.08815429e-01  4.93671304e-01  4.78375963e-01\n",
      "  4.62934091e-01  4.47350418e-01  4.31629717e-01  4.15776805e-01\n",
      "  3.99796537e-01  3.83693807e-01  3.67473548e-01  3.51140729e-01\n",
      "  3.34700352e-01  3.18157454e-01  3.01517101e-01  2.84784390e-01\n",
      "  2.67964448e-01  2.51062426e-01  2.34083501e-01  2.17032874e-01\n",
      "  1.99915768e-01  1.82737426e-01  1.65503110e-01  1.48218099e-01\n",
      "  1.30887687e-01  1.13517183e-01  9.61119084e-02  7.86771933e-02\n",
      "  6.12183787e-02  4.37408124e-02  2.62498479e-02  8.75084278e-03\n",
      " -8.75084278e-03 -2.62498479e-02 -4.37408124e-02 -6.12183787e-02\n",
      " -7.86771933e-02 -9.61119084e-02 -1.13517183e-01 -1.30887687e-01\n",
      " -1.48218099e-01 -1.65503110e-01 -1.82737426e-01 -1.99915768e-01\n",
      " -2.17032874e-01 -2.34083501e-01 -2.51062426e-01 -2.67964448e-01\n",
      " -2.84784390e-01 -3.01517101e-01 -3.18157454e-01 -3.34700352e-01\n",
      " -3.51140729e-01 -3.67473548e-01 -3.83693807e-01 -3.99796537e-01\n",
      " -4.15776805e-01 -4.31629717e-01 -4.47350418e-01 -4.62934091e-01\n",
      " -4.78375963e-01 -4.93671304e-01 -5.08815429e-01 -5.23803699e-01\n",
      " -5.38631524e-01 -5.53294361e-01 -5.67787719e-01 -5.82107158e-01\n",
      " -5.96248293e-01 -6.10206791e-01 -6.23978378e-01 -6.37558835e-01\n",
      " -6.50944001e-01 -6.64129778e-01 -6.77112125e-01 -6.89887067e-01\n",
      " -7.02450691e-01 -7.14799147e-01 -7.26928654e-01 -7.38835496e-01\n",
      " -7.50516027e-01 -7.61966667e-01 -7.73183910e-01 -7.84164320e-01\n",
      " -7.94904534e-01 -8.05401261e-01 -8.15651286e-01 -8.25651470e-01\n",
      " -8.35398750e-01 -8.44890139e-01 -8.54122731e-01 -8.63093698e-01\n",
      " -8.71800291e-01 -8.80239844e-01 -8.88409771e-01 -8.96307571e-01\n",
      " -9.03930823e-01 -9.11277194e-01 -9.18344432e-01 -9.25130373e-01\n",
      " -9.31632938e-01 -9.37850135e-01 -9.43780061e-01 -9.49420898e-01\n",
      " -9.54770919e-01 -9.59828485e-01 -9.64592047e-01 -9.69060146e-01\n",
      " -9.73231413e-01 -9.77104571e-01 -9.80678432e-01 -9.83951903e-01\n",
      " -9.86923981e-01 -9.89593754e-01 -9.91960407e-01 -9.94023213e-01\n",
      " -9.95781541e-01 -9.97234852e-01 -9.98382700e-01 -9.99224736e-01\n",
      " -9.99760700e-01 -9.99990428e-01 -9.99913850e-01 -9.99530989e-01\n",
      " -9.98841963e-01 -9.97846983e-01 -9.96546353e-01 -9.94940472e-01\n",
      " -9.93029832e-01 -9.90815018e-01 -9.88296709e-01 -9.85475675e-01\n",
      " -9.82352781e-01 -9.78928984e-01 -9.75205332e-01 -9.71182966e-01\n",
      " -9.66863117e-01 -9.62247110e-01 -9.57336358e-01 -9.52132365e-01\n",
      " -9.46636725e-01 -9.40851123e-01 -9.34777328e-01 -9.28417204e-01\n",
      " -9.21772696e-01 -9.14845842e-01 -9.07638762e-01 -9.00153664e-01\n",
      " -8.92392840e-01 -8.84358669e-01 -8.76053611e-01 -8.67480210e-01\n",
      " -8.58641091e-01 -8.49538964e-01 -8.40176614e-01 -8.30556912e-01\n",
      " -8.20682802e-01 -8.10557309e-01 -8.00183536e-01 -7.89564659e-01\n",
      " -7.78703931e-01 -7.67604680e-01 -7.56270304e-01 -7.44704276e-01\n",
      " -7.32910138e-01 -7.20891503e-01 -7.08652053e-01 -6.96195536e-01\n",
      " -6.83525768e-01 -6.70646630e-01 -6.57562067e-01 -6.44276087e-01\n",
      " -6.30792759e-01 -6.17116214e-01 -6.03250640e-01 -5.89200286e-01\n",
      " -5.74969454e-01 -5.60562503e-01 -5.45983848e-01 -5.31237952e-01\n",
      " -5.16329334e-01 -5.01262559e-01 -4.86042243e-01 -4.70673048e-01\n",
      " -4.55159682e-01 -4.39506896e-01 -4.23719485e-01 -4.07802285e-01\n",
      " -3.91760172e-01 -3.75598059e-01 -3.59320897e-01 -3.42933671e-01\n",
      " -3.26441402e-01 -3.09849141e-01 -2.93161971e-01 -2.76385002e-01\n",
      " -2.59523374e-01 -2.42582252e-01 -2.25566824e-01 -2.08482304e-01\n",
      " -1.91333923e-01 -1.74126935e-01 -1.56866611e-01 -1.39558237e-01\n",
      " -1.22207115e-01 -1.04818559e-01 -8.73978972e-02 -6.99504644e-02\n",
      " -5.24816050e-02 -3.49966701e-02 -1.75010154e-02 -2.44929360e-16]\n",
      "[ 1.          0.99984685  0.99938743  0.99862189  0.99755047  0.99617348\n",
      "  0.99449136  0.99250462  0.99021387  0.9876198   0.98472322  0.981525\n",
      "  0.97802614  0.9742277   0.97013084  0.96573683  0.961047    0.95606279\n",
      "  0.95078573  0.94521744  0.93935962  0.93321407  0.92678266  0.92006737\n",
      "  0.91307026  0.90579346  0.89823922  0.89040983  0.8823077   0.87393532\n",
      "  0.86529524  0.85639011  0.84722266  0.8377957   0.82811212  0.81817488\n",
      "  0.80798702  0.79755167  0.78687202  0.77595135  0.76479299  0.75340038\n",
      "  0.74177699  0.72992638  0.7178522   0.70555813  0.69304794  0.68032546\n",
      "  0.66739459  0.6542593   0.6409236   0.62739157  0.61366738  0.59975521\n",
      "  0.58565933  0.57138406  0.55693376  0.54231288  0.52752588  0.51257729\n",
      "  0.49747169  0.48221372  0.46680804  0.45125937  0.43557248  0.41975216\n",
      "  0.40380328  0.3877307   0.37153936  0.35523421  0.33882025  0.32230251\n",
      "  0.30568605  0.28897595  0.27217733  0.25529534  0.23833516  0.22130197\n",
      "  0.20420099  0.18703747  0.16981665  0.15254382  0.13522426  0.11786328\n",
      "  0.1004662   0.08303834  0.06558505  0.04811167  0.03062355  0.01312605\n",
      " -0.00437546 -0.02187564 -0.03936912 -0.05685054 -0.07431454 -0.09175578\n",
      " -0.10916892 -0.12654861 -0.14388955 -0.1611864  -0.17843389 -0.19562672\n",
      " -0.21275963 -0.22982736 -0.2468247  -0.26374644 -0.28058738 -0.29734238\n",
      " -0.3140063  -0.33057404 -0.34704052 -0.3634007  -0.37964957 -0.39578214\n",
      " -0.41179349 -0.4276787  -0.4434329  -0.45905128 -0.47452905 -0.48986146\n",
      " -0.50504383 -0.52007149 -0.53493986 -0.54964437 -0.56418051 -0.57854384\n",
      " -0.59272996 -0.60673452 -0.62055324 -0.63418187 -0.64761624 -0.66085225\n",
      " -0.67388583 -0.68671299 -0.69932981 -0.71173241 -0.72391701 -0.73587986\n",
      " -0.74761731 -0.75912575 -0.77040167 -0.78144161 -0.79224218 -0.80280008\n",
      " -0.81311208 -0.82317502 -0.8329858  -0.84254144 -0.851839   -0.86087564\n",
      " -0.86964857 -0.87815513 -0.88639271 -0.89435877 -0.90205088 -0.90946668\n",
      " -0.91660391 -0.92346037 -0.93003397 -0.93632269 -0.94232461 -0.94803789\n",
      " -0.95346077 -0.9585916  -0.9634288  -0.9679709  -0.9722165  -0.9761643\n",
      " -0.97981309 -0.98316175 -0.98620927 -0.9889547  -0.9913972  -0.99353603\n",
      " -0.99537053 -0.99690015 -0.9981244  -0.99904291 -0.99965541 -0.99996171\n",
      " -0.99996171 -0.99965541 -0.99904291 -0.9981244  -0.99690015 -0.99537053\n",
      " -0.99353603 -0.9913972  -0.9889547  -0.98620927 -0.98316175 -0.97981309\n",
      " -0.9761643  -0.9722165  -0.9679709  -0.9634288  -0.9585916  -0.95346077\n",
      " -0.94803789 -0.94232461 -0.93632269 -0.93003397 -0.92346037 -0.91660391\n",
      " -0.90946668 -0.90205088 -0.89435877 -0.88639271 -0.87815513 -0.86964857\n",
      " -0.86087564 -0.851839   -0.84254144 -0.8329858  -0.82317502 -0.81311208\n",
      " -0.80280008 -0.79224218 -0.78144161 -0.77040167 -0.75912575 -0.74761731\n",
      " -0.73587986 -0.72391701 -0.71173241 -0.69932981 -0.68671299 -0.67388583\n",
      " -0.66085225 -0.64761624 -0.63418187 -0.62055324 -0.60673452 -0.59272996\n",
      " -0.57854384 -0.56418051 -0.54964437 -0.53493986 -0.52007149 -0.50504383\n",
      " -0.48986146 -0.47452905 -0.45905128 -0.4434329  -0.4276787  -0.41179349\n",
      " -0.39578214 -0.37964957 -0.3634007  -0.34704052 -0.33057404 -0.3140063\n",
      " -0.29734238 -0.28058738 -0.26374644 -0.2468247  -0.22982736 -0.21275963\n",
      " -0.19562672 -0.17843389 -0.1611864  -0.14388955 -0.12654861 -0.10916892\n",
      " -0.09175578 -0.07431454 -0.05685054 -0.03936912 -0.02187564 -0.00437546\n",
      "  0.01312605  0.03062355  0.04811167  0.06558505  0.08303834  0.1004662\n",
      "  0.11786328  0.13522426  0.15254382  0.16981665  0.18703747  0.20420099\n",
      "  0.22130197  0.23833516  0.25529534  0.27217733  0.28897595  0.30568605\n",
      "  0.32230251  0.33882025  0.35523421  0.37153936  0.3877307   0.40380328\n",
      "  0.41975216  0.43557248  0.45125937  0.46680804  0.48221372  0.49747169\n",
      "  0.51257729  0.52752588  0.54231288  0.55693376  0.57138406  0.58565933\n",
      "  0.59975521  0.61366738  0.62739157  0.6409236   0.6542593   0.66739459\n",
      "  0.68032546  0.69304794  0.70555813  0.7178522   0.72992638  0.74177699\n",
      "  0.75340038  0.76479299  0.77595135  0.78687202  0.79755167  0.80798702\n",
      "  0.81817488  0.82811212  0.8377957   0.84722266  0.85639011  0.86529524\n",
      "  0.87393532  0.8823077   0.89040983  0.89823922  0.90579346  0.91307026\n",
      "  0.92006737  0.92678266  0.93321407  0.93935962  0.94521744  0.95078573\n",
      "  0.95606279  0.961047    0.96573683  0.97013084  0.9742277   0.97802614\n",
      "  0.981525    0.98472322  0.9876198   0.99021387  0.99250462  0.99449136\n",
      "  0.99617348  0.99755047  0.99862189  0.99938743  0.99984685  1.        ]\n"
     ]
    }
   ],
   "source": [
    "#Crea un array de ángulos en radianes y calcula el seno y coseno de cada ángulo.\n",
    "\n",
    "angulos_radianes = np.linspace(0, 2*np.pi, 360)\n",
    "\n",
    "seno = np.sin(angulos_radianes)\n",
    "\n",
    "coseno = np.cos(angulos_radianes)\n",
    "\n",
    "print(seno)\n",
    "\n",
    "print(coseno)"
   ]
  },
  {
   "cell_type": "code",
   "execution_count": 59,
   "id": "fa88316d",
   "metadata": {},
   "outputs": [
    {
     "name": "stdout",
     "output_type": "stream",
     "text": [
      "[[1.09861229 1.60943791 0.69314718]\n",
      " [1.09861229 1.09861229 0.        ]\n",
      " [0.69314718 1.60943791 1.38629436]]\n"
     ]
    }
   ],
   "source": [
    "#Crea un array de números y aplica la función exponencial a cada elemento\n",
    "\n",
    "array_1 = np.array([[3,5,2],[3,3,1],[2,5,4]])\n",
    "\n",
    "exponencial = np.log(array_1)\n",
    "\n",
    "print(exponencial)"
   ]
  },
  {
   "cell_type": "code",
   "execution_count": 60,
   "id": "e642a4fa",
   "metadata": {},
   "outputs": [
    {
     "name": "stdout",
     "output_type": "stream",
     "text": [
      "[[4 3 2]\n",
      " [2 5 2]]\n",
      "\n",
      "[[1.38629436 1.09861229 0.69314718]\n",
      " [0.69314718 1.60943791 0.69314718]]\n"
     ]
    }
   ],
   "source": [
    "#Crea un array de números y aplica la función logaritmo natural a cada elemento.\n",
    "\n",
    "array_2 = np.array([[4,3,2],[2,5,2]])\n",
    "\n",
    "funcion_logaritmo = np.log(array_2)\n",
    "\n",
    "print(array_2)\n",
    "\n",
    "print()\n",
    "\n",
    "print(funcion_logaritmo)"
   ]
  },
  {
   "cell_type": "markdown",
   "id": "2e63219e",
   "metadata": {},
   "source": [
    "# Indexación y Slicing"
   ]
  },
  {
   "cell_type": "code",
   "execution_count": 64,
   "id": "bfab5120",
   "metadata": {},
   "outputs": [
    {
     "name": "stdout",
     "output_type": "stream",
     "text": [
      "3\n"
     ]
    }
   ],
   "source": [
    "#Crea un array de 1D y accede al tercer elemento.\n",
    "\n",
    "array = np.array([1,2,3])\n",
    "\n",
    "array1 = array[2]\n",
    "\n",
    "print(array1)\n"
   ]
  },
  {
   "cell_type": "code",
   "execution_count": 65,
   "id": "4250c38a",
   "metadata": {},
   "outputs": [
    {
     "name": "stdout",
     "output_type": "stream",
     "text": [
      "Matriz Original:\n",
      "[[1 2 3]\n",
      " [4 5 6]\n",
      " [7 8 9]]\n",
      "\n",
      "Submatriz de la esquina superior izquierda:\n",
      "[[1 2]\n",
      " [4 5]]\n"
     ]
    }
   ],
   "source": [
    "#Crea una matriz de 3x3 y realiza un slicing para obtener la submatriz de la esquina superior izquierda (2x2).\n",
    "\n",
    "# Crea una matriz de 3x3\n",
    "matriz_3x3 = np.array([[1, 2, 3], [4, 5, 6], [7, 8, 9]])\n",
    "\n",
    "# Realiza slicing para obtener la submatriz de la esquina superior izquierda (2x2)\n",
    "submatriz_esquina_superior = matriz_3x3[:2, :2]\n",
    "\n",
    "print(\"Matriz Original:\")\n",
    "print(matriz_3x3)\n",
    "\n",
    "print(\"\\nSubmatriz de la esquina superior izquierda:\")\n",
    "print(submatriz_esquina_superior)\n"
   ]
  },
  {
   "cell_type": "code",
   "execution_count": 69,
   "id": "644b4e0a",
   "metadata": {},
   "outputs": [
    {
     "name": "stdout",
     "output_type": "stream",
     "text": [
      "[ 6 10 33 33]\n"
     ]
    }
   ],
   "source": [
    "#Crea un array de números y utiliza la indexación booleana para obtener solo los elementos mayores que 5. \n",
    "\n",
    "array_1 = np.array([6,10,33,2,33,2,1])\n",
    "\n",
    "elemento_mayor_a_5 = array_1[array_1 > 5]\n",
    "\n",
    "print(elemento_mayor_a_5)"
   ]
  },
  {
   "cell_type": "markdown",
   "id": "c1671e27",
   "metadata": {},
   "source": [
    "# Generación de Números Aleatorios"
   ]
  },
  {
   "cell_type": "code",
   "execution_count": 72,
   "id": "c83b64b1",
   "metadata": {},
   "outputs": [
    {
     "name": "stdout",
     "output_type": "stream",
     "text": [
      "[64 19 72 80 72 63 49  1 42 46]\n"
     ]
    }
   ],
   "source": [
    "#Genera un array de 10 números enteros aleatorios entre 1 y 100.\n",
    "\n",
    "array_aleatorio = np.random.randint(1,101,size = 10)\n",
    "\n",
    "print(array_aleatorio)"
   ]
  },
  {
   "cell_type": "code",
   "execution_count": 75,
   "id": "467a9cf5",
   "metadata": {},
   "outputs": [
    {
     "name": "stdout",
     "output_type": "stream",
     "text": [
      "[[0.88279035 0.41434221 0.84696312]\n",
      " [0.82246731 0.71477283 0.31458867]]\n"
     ]
    }
   ],
   "source": [
    "#Genera una matriz de 2x3 con números aleatorios uniformemente distribuidos entre 0 y 1\n",
    "\n",
    "array_1 = np.random.rand(2,3)\n",
    "\n",
    "print(array_1)"
   ]
  },
  {
   "cell_type": "code",
   "execution_count": 77,
   "id": "8a1ca5e7",
   "metadata": {},
   "outputs": [
    {
     "name": "stdout",
     "output_type": "stream",
     "text": [
      "Array de números aleatorios con distribución normal:\n",
      "[-0.62984759 -0.01712692  0.21755593  0.93900812 -1.15497693]\n"
     ]
    }
   ],
   "source": [
    "#Genera un array de 5 números aleatorios con distribución normal (media 0, desviación estándar 1)\n",
    "array_normal = np.random.randn(5)\n",
    "\n",
    "print(\"Array de números aleatorios con distribución normal:\")\n",
    "print(array_normal)"
   ]
  },
  {
   "cell_type": "code",
   "execution_count": null,
   "id": "bb3393f9",
   "metadata": {},
   "outputs": [],
   "source": []
  },
  {
   "cell_type": "code",
   "execution_count": null,
   "id": "d97de025",
   "metadata": {},
   "outputs": [],
   "source": []
  },
  {
   "cell_type": "code",
   "execution_count": null,
   "id": "ebf0774a",
   "metadata": {},
   "outputs": [],
   "source": []
  }
 ],
 "metadata": {
  "kernelspec": {
   "display_name": "Python 3 (ipykernel)",
   "language": "python",
   "name": "python3"
  },
  "language_info": {
   "codemirror_mode": {
    "name": "ipython",
    "version": 3
   },
   "file_extension": ".py",
   "mimetype": "text/x-python",
   "name": "python",
   "nbconvert_exporter": "python",
   "pygments_lexer": "ipython3",
   "version": "3.11.3"
  }
 },
 "nbformat": 4,
 "nbformat_minor": 5
}
