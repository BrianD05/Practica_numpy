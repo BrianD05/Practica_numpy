{
 "cells": [
  {
   "cell_type": "markdown",
   "id": "3127ae9d",
   "metadata": {},
   "source": [
    "# Creación de Arrays"
   ]
  },
  {
   "cell_type": "code",
   "execution_count": 2,
   "id": "98fafc10",
   "metadata": {},
   "outputs": [
    {
     "name": "stdout",
     "output_type": "stream",
     "text": [
      "[1 2 3 4 5]\n"
     ]
    }
   ],
   "source": [
    "#Crear un array a partir de una lista\n",
    "import numpy as np\n",
    "\n",
    "lista = [1, 2, 3, 4, 5]\n",
    "\n",
    "array_creado = np.array(lista)\n",
    "\n",
    "print(array_creado)\n"
   ]
  },
  {
   "cell_type": "code",
   "execution_count": 4,
   "id": "043e0131",
   "metadata": {},
   "outputs": [
    {
     "name": "stdout",
     "output_type": "stream",
     "text": [
      "[[0. 0. 0. 0. 0.]\n",
      " [0. 0. 0. 0. 0.]\n",
      " [0. 0. 0. 0. 0.]\n",
      " [0. 0. 0. 0. 0.]\n",
      " [0. 0. 0. 0. 0.]]\n"
     ]
    }
   ],
   "source": [
    "#Crear un array de ceros de tamaño 5x5\n",
    "\n",
    "array_ceros = np.zeros((5,5))\n",
    "\n",
    "print(array_ceros)"
   ]
  },
  {
   "cell_type": "code",
   "execution_count": 5,
   "id": "ac2b7096",
   "metadata": {},
   "outputs": [
    {
     "name": "stdout",
     "output_type": "stream",
     "text": [
      "[[1. 1. 1.]\n",
      " [1. 1. 1.]\n",
      " [1. 1. 1.]]\n"
     ]
    }
   ],
   "source": [
    "#Crear un array de unos de tamaño 3x3\n",
    "array_one = np.ones((3,3))\n",
    "print(array_one)"
   ]
  },
  {
   "cell_type": "code",
   "execution_count": 7,
   "id": "60cefb4b",
   "metadata": {},
   "outputs": [
    {
     "name": "stdout",
     "output_type": "stream",
     "text": [
      "[0 1 2 3 4 5 6 7 8 9]\n"
     ]
    }
   ],
   "source": [
    "#Crear un array con valores espaciados uniformemente de 0 a 9\n",
    "array = np.arange(10)\n",
    "print(array)"
   ]
  },
  {
   "cell_type": "code",
   "execution_count": 8,
   "id": "5ba6f502",
   "metadata": {},
   "outputs": [
    {
     "name": "stdout",
     "output_type": "stream",
     "text": [
      "[0.  0.2 0.4 0.6 0.8 1. ]\n"
     ]
    }
   ],
   "source": [
    "#Crear un array con 6 valores espaciados linealmente entre 0 y 1\n",
    "array_espaciado = np.linspace(0,1,6)\n",
    "print(array_espaciado)"
   ]
  },
  {
   "cell_type": "markdown",
   "id": "90ed91a1",
   "metadata": {},
   "source": [
    "# Operaciones Básicas"
   ]
  },
  {
   "cell_type": "code",
   "execution_count": 11,
   "id": "ff348071",
   "metadata": {},
   "outputs": [
    {
     "name": "stdout",
     "output_type": "stream",
     "text": [
      "La suma es:  [11  8 11]\n",
      "La resta es:  [-1  0 -7]\n",
      "La multiplicacion es:  [30 16 18]\n",
      "La division es:  [0.83333333 1.         0.22222222]\n"
     ]
    }
   ],
   "source": [
    "#Realizar una suma, resta, multiplicación y división entre dos arrays\n",
    "\n",
    "array_1 = np.array([5,4,2])\n",
    "array_2 = np.array([6,4,9])\n",
    "suma = np.add(array_1, array_2)\n",
    "resta = np.subtract(array_1, array_2)\n",
    "multiplicacion = np.multiply(array_1, array_2)\n",
    "division = np.divide(array_1, array_2)\n",
    "\n",
    "print(\"La suma es: \",suma)\n",
    "print(\"La resta es: \",resta)\n",
    "print(\"La multiplicacion es: \",multiplicacion)\n",
    "print(\"La division es: \",division)"
   ]
  },
  {
   "cell_type": "code",
   "execution_count": 12,
   "id": "a270ae97",
   "metadata": {},
   "outputs": [
    {
     "name": "stdout",
     "output_type": "stream",
     "text": [
      "64\n"
     ]
    }
   ],
   "source": [
    "#Calcular el producto punto de dos arrays\n",
    "producto_punto = np.dot(array_1,array_2)\n",
    "print(producto_punto)"
   ]
  },
  {
   "cell_type": "code",
   "execution_count": 13,
   "id": "dddd8ba1",
   "metadata": {},
   "outputs": [
    {
     "name": "stdout",
     "output_type": "stream",
     "text": [
      "[5 4 2]\n"
     ]
    }
   ],
   "source": [
    "#Transponer un array\n",
    "trasponer = np.transpose(array_1)\n",
    "print(trasponer)"
   ]
  },
  {
   "cell_type": "markdown",
   "id": "5e44ba57",
   "metadata": {},
   "source": [
    "# Operaciones Estadísticas"
   ]
  },
  {
   "cell_type": "code",
   "execution_count": 16,
   "id": "7f3e6efd",
   "metadata": {},
   "outputs": [
    {
     "name": "stdout",
     "output_type": "stream",
     "text": [
      "[46 37 55 27 63 55 62 97 63 39]\n",
      "54.4\n",
      "\n",
      "544\n",
      "\n",
      "27\n",
      "\n",
      "97\n"
     ]
    }
   ],
   "source": [
    "#Calcular la media, suma, valor mínimo y valor máximo de un array\n",
    "\n",
    "array_aleatorio = np.random.randint(1,100,size = 10)\n",
    "\n",
    "media = np.mean(array_aleatorio)\n",
    "suma = np.sum(array_aleatorio)\n",
    "minimo = np.min(array_aleatorio)\n",
    "maximo = np.max(array_aleatorio)\n",
    "\n",
    "print(array_aleatorio)\n",
    "print(media)\n",
    "print()\n",
    "print(suma)\n",
    "print()\n",
    "print(minimo)\n",
    "print()\n",
    "print(maximo)\n"
   ]
  },
  {
   "cell_type": "code",
   "execution_count": 21,
   "id": "f6264d86",
   "metadata": {},
   "outputs": [
    {
     "name": "stdout",
     "output_type": "stream",
     "text": [
      "[[11 18 12]\n",
      " [13 13 18]]\n",
      "\n",
      "[[11 18]\n",
      " [12 13]\n",
      " [13 18]]\n"
     ]
    }
   ],
   "source": [
    "#Cambiar la forma de un array\n",
    "array_2 = np.random.randint(1,20,size = (2,3))\n",
    "print(array_2)\n",
    "\n",
    "print()\n",
    "cambiar_forma = np.reshape(array_2,(3,2))\n",
    "\n",
    "print(cambiar_forma)"
   ]
  },
  {
   "cell_type": "markdown",
   "id": "195c5f6d",
   "metadata": {},
   "source": [
    "# Álgebra Lineal"
   ]
  },
  {
   "cell_type": "code",
   "execution_count": 26,
   "id": "d01ce9f8",
   "metadata": {},
   "outputs": [
    {
     "name": "stdout",
     "output_type": "stream",
     "text": [
      "[[1 2]\n",
      " [2 5]]\n",
      "\n",
      "1.0\n"
     ]
    }
   ],
   "source": [
    "#Calcular el determinante de una matriz 2x2\n",
    "nuevo_array = np.array([[1,2],[2,5]])\n",
    "print(nuevo_array)\n",
    "\n",
    "print()\n",
    "\n",
    "determinante = np.linalg.det(nuevo_array)\n",
    "\n",
    "print(determinante)"
   ]
  },
  {
   "cell_type": "code",
   "execution_count": 30,
   "id": "9782d614",
   "metadata": {},
   "outputs": [
    {
     "name": "stdout",
     "output_type": "stream",
     "text": [
      "[[1 2 3]\n",
      " [4 5 6]\n",
      " [7 8 9]]\n",
      "\n",
      "[[-4.50359963e+15  9.00719925e+15 -4.50359963e+15]\n",
      " [ 9.00719925e+15 -1.80143985e+16  9.00719925e+15]\n",
      " [-4.50359963e+15  9.00719925e+15 -4.50359963e+15]]\n"
     ]
    }
   ],
   "source": [
    "#Calcular la matriz inversa de una matriz 3x3\n",
    "\n",
    "matriz_3x3 = np.array([[1, 2, 3], [4, 5, 6], [7, 8, 9]])\n",
    "\n",
    "print(matriz_3x3)\n",
    "inversa = np.linalg.inv(matriz_3x3)\n",
    "print()\n",
    "print(inversa)"
   ]
  },
  {
   "cell_type": "code",
   "execution_count": 31,
   "id": "07211323",
   "metadata": {},
   "outputs": [
    {
     "name": "stdout",
     "output_type": "stream",
     "text": [
      "[[ 1  2  3  4]\n",
      " [ 5  6  7  8]\n",
      " [ 9 10 11 12]\n",
      " [13 14 15 16]]\n",
      "\n",
      "(array([ 3.62093727e+01, -2.20937271e+00,  2.80575969e-16, -8.29646454e-16]), array([[-0.15115432, -0.72704996, -0.01128698, -0.250341  ],\n",
      "       [-0.34923733, -0.28320876,  0.42321091,  0.69689908],\n",
      "       [-0.54732033,  0.16063243, -0.81256087, -0.64277516],\n",
      "       [-0.74540333,  0.60447363,  0.40063694,  0.19621708]]))\n"
     ]
    }
   ],
   "source": [
    "#Calcular los valores propios y vectores propios de una matriz 4x4\n",
    "matriz_4x4 = np.array([[1, 2, 3, 4], [5, 6, 7, 8], [9, 10, 11, 12], [13, 14, 15, 16]])\n",
    "\n",
    "autovalores_autovectores = np.linalg.eig(matriz_4x4)\n",
    "\n",
    "print(matriz_4x4)\n",
    "\n",
    "print()\n",
    "\n",
    "print(autovalores_autovectores)"
   ]
  },
  {
   "cell_type": "markdown",
   "id": "efd4320a",
   "metadata": {},
   "source": [
    "# Funciones Universales"
   ]
  },
  {
   "cell_type": "code",
   "execution_count": 34,
   "id": "b6104243",
   "metadata": {},
   "outputs": [
    {
     "name": "stdout",
     "output_type": "stream",
     "text": [
      "[0.0000000e+00 1.0000000e+00 1.2246468e-16]\n",
      "\n",
      "[ 1.000000e+00  6.123234e-17 -1.000000e+00]\n",
      "\n",
      "[ 1.          4.81047738 23.14069263]\n",
      "\n",
      "[      -inf 0.45158271 1.14472989]\n"
     ]
    },
    {
     "name": "stderr",
     "output_type": "stream",
     "text": [
      "C:\\Users\\braia\\AppData\\Local\\Temp\\ipykernel_12196\\3932995182.py:11: RuntimeWarning: divide by zero encountered in log\n",
      "  logaritmo = np.log(array_angulos)\n"
     ]
    }
   ],
   "source": [
    "#Calcular el seno, coseno, exponencial y logaritmo natural de un array\n",
    "\n",
    "array_angulos = np.array([0, np.pi/2, np.pi])\n",
    "\n",
    "seno = np.sin(array_angulos)\n",
    "\n",
    "coseno = np.cos(array_angulos)\n",
    "\n",
    "exponencial = np.exp(array_angulos)\n",
    "\n",
    "logaritmo = np.log(array_angulos)\n",
    "\n",
    "print(seno)\n",
    "\n",
    "print()\n",
    "\n",
    "print(coseno)\n",
    "\n",
    "print()\n",
    "\n",
    "print(exponencial)\n",
    "\n",
    "print()\n",
    "\n",
    "print(logaritmo)"
   ]
  },
  {
   "cell_type": "code",
   "execution_count": 35,
   "id": "eadbf298",
   "metadata": {},
   "outputs": [
    {
     "name": "stdout",
     "output_type": "stream",
     "text": [
      "6\n",
      "\n",
      "[[2 3]\n",
      " [5 6]]\n"
     ]
    }
   ],
   "source": [
    "#Realizar indexación y slicing en un array 2D\n",
    "array_2d = np.array([[1, 2, 3], [4, 5, 6], [7, 8, 9]])\n",
    "\n",
    "elemento = array_2d[1,2]\n",
    "\n",
    "subarray = array_2d[:2,1:]\n",
    "\n",
    "print(elemento)\n",
    "\n",
    "print()\n",
    "\n",
    "print(subarray)"
   ]
  },
  {
   "cell_type": "markdown",
   "id": "38fb3e51",
   "metadata": {},
   "source": [
    "# Generación de Números Aleatorios"
   ]
  },
  {
   "cell_type": "code",
   "execution_count": 37,
   "id": "4c9439b1",
   "metadata": {},
   "outputs": [
    {
     "name": "stdout",
     "output_type": "stream",
     "text": [
      "[80 47 22 74 70 33 43 36 62 87]\n"
     ]
    }
   ],
   "source": [
    "#Generar un array de 10 números enteros aleatorios entre 1 y 100\n",
    "\n",
    "array_aleatorio = np.random.randint(1,101,size = 10)\n",
    "\n",
    "print(array_aleatorio)"
   ]
  },
  {
   "cell_type": "code",
   "execution_count": 38,
   "id": "7b67e54f",
   "metadata": {},
   "outputs": [
    {
     "name": "stdout",
     "output_type": "stream",
     "text": [
      "[[0.21939078 0.33592823 0.37228672]\n",
      " [0.70241376 0.28918966 0.80706414]]\n"
     ]
    }
   ],
   "source": [
    "#Generar una matriz 2x3 con números aleatorios uniformemente distribuidos entre 0 y 1\n",
    "\n",
    "matriz_uniforme = np.random.rand(2,3)\n",
    "\n",
    "print(matriz_uniforme)"
   ]
  },
  {
   "cell_type": "code",
   "execution_count": 41,
   "id": "bc4519a1",
   "metadata": {},
   "outputs": [
    {
     "name": "stdout",
     "output_type": "stream",
     "text": [
      "[ 2.94572     0.44287336 -0.54586137  1.41222227 -0.29924358]\n"
     ]
    }
   ],
   "source": [
    "#Generar un array de 5 números aleatorios con distribución normal (media 0, desviación estándar 1)\n",
    "\n",
    "array_normal = np.random.randn(5)\n",
    "\n",
    "print(array_normal)\n"
   ]
  },
  {
   "cell_type": "code",
   "execution_count": null,
   "id": "221ead1f",
   "metadata": {},
   "outputs": [],
   "source": []
  },
  {
   "cell_type": "code",
   "execution_count": null,
   "id": "097ece7f",
   "metadata": {},
   "outputs": [],
   "source": []
  }
 ],
 "metadata": {
  "kernelspec": {
   "display_name": "Python 3 (ipykernel)",
   "language": "python",
   "name": "python3"
  },
  "language_info": {
   "codemirror_mode": {
    "name": "ipython",
    "version": 3
   },
   "file_extension": ".py",
   "mimetype": "text/x-python",
   "name": "python",
   "nbconvert_exporter": "python",
   "pygments_lexer": "ipython3",
   "version": "3.11.3"
  }
 },
 "nbformat": 4,
 "nbformat_minor": 5
}
